{
 "cells": [
  {
   "cell_type": "markdown",
   "metadata": {},
   "source": [
    "The following code shows how to update metadata."
   ]
  },
  {
   "cell_type": "code",
   "execution_count": null,
   "metadata": {},
   "outputs": [],
   "source": [
    "from movenue.models.playable import Playable\n",
    "from movenue.services.playables_population import add_playable_info\n",
    "from movenue.services.add_infos import save_playable_to_file\n",
    "from movenue.constants.general_settings import SUPPORTED_FILE_ENDINGS\n",
    "import os\n"
   ]
  },
  {
   "cell_type": "code",
   "execution_count": null,
   "metadata": {},
   "outputs": [],
   "source": [
    "from tkinter import filedialog"
   ]
  },
  {
   "cell_type": "code",
   "execution_count": null,
   "metadata": {},
   "outputs": [],
   "source": [
    "target_folder = filedialog.askdirectory()"
   ]
  },
  {
   "cell_type": "code",
   "execution_count": null,
   "metadata": {},
   "outputs": [],
   "source": [
    "    \n",
    "for folder in os.listdir(target_folder):\n",
    "    if os.path.isdir(os.path.join(target_folder, folder)):\n",
    "        target_tags = []\n",
    "        target_tags.append(folder)\n",
    "        for root, dirs, files in os.walk(os.path.join(target_folder, folder)):\n",
    "            for file in files:\n",
    "                if file.endswith(SUPPORTED_FILE_ENDINGS):\n",
    "                    p = Playable(os.path.join(root, file))\n",
    "                    add_playable_info(p)\n",
    "                    p.tags = list(set(p.tags + target_tags))\n",
    "                    save_playable_to_file(p)\n",
    "                    print(f\"Updated tags for {p.title} to {p.tags}\")"
   ]
  }
 ],
 "metadata": {
  "kernelspec": {
   "display_name": "movenue-ndV_8Idw-py3.12",
   "language": "python",
   "name": "python3"
  },
  "language_info": {
   "codemirror_mode": {
    "name": "ipython",
    "version": 3
   },
   "file_extension": ".py",
   "mimetype": "text/x-python",
   "name": "python",
   "nbconvert_exporter": "python",
   "pygments_lexer": "ipython3",
   "version": "3.12.1"
  }
 },
 "nbformat": 4,
 "nbformat_minor": 2
}
