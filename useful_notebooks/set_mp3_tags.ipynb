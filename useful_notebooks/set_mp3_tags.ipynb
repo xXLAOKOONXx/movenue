{
 "cells": [
  {
   "cell_type": "markdown",
   "metadata": {},
   "source": [
    "The following code shows how to update metadata."
   ]
  },
  {
   "cell_type": "code",
   "execution_count": 2,
   "metadata": {},
   "outputs": [],
   "source": [
    "from movenue.models.playable import Playable\n",
    "from movenue.services.playables_population import add_playable_info\n",
    "from movenue.services.add_infos import save_playable_to_file\n",
    "from movenue.constants.general_settings import SUPPORTED_FILE_ENDINGS\n",
    "import os\n"
   ]
  },
  {
   "cell_type": "code",
   "execution_count": 4,
   "metadata": {},
   "outputs": [],
   "source": [
    "from tkinter import filedialog"
   ]
  },
  {
   "cell_type": "code",
   "execution_count": 5,
   "metadata": {},
   "outputs": [],
   "source": [
    "target_folder = filedialog.askdirectory()"
   ]
  },
  {
   "cell_type": "code",
   "execution_count": 6,
   "metadata": {},
   "outputs": [
    {
     "data": {
      "text/plain": [
       "'//myNAS/Daten/Musik/Videos/swedish house mafia'"
      ]
     },
     "execution_count": 6,
     "metadata": {},
     "output_type": "execute_result"
    }
   ],
   "source": [
    "target_folder"
   ]
  },
  {
   "cell_type": "code",
   "execution_count": 9,
   "metadata": {},
   "outputs": [],
   "source": [
    "conc = os.path.join(target_folder, \"conc.txt\")"
   ]
  },
  {
   "cell_type": "code",
   "execution_count": 10,
   "metadata": {},
   "outputs": [
    {
     "data": {
      "text/plain": [
       "'//myNAS/Daten/Musik/Videos/swedish house mafia\\\\conc.txt'"
      ]
     },
     "execution_count": 10,
     "metadata": {},
     "output_type": "execute_result"
    }
   ],
   "source": [
    "conc"
   ]
  },
  {
   "cell_type": "code",
   "execution_count": 11,
   "metadata": {},
   "outputs": [],
   "source": [
    "from pathlib import Path"
   ]
  },
  {
   "cell_type": "code",
   "execution_count": 12,
   "metadata": {},
   "outputs": [
    {
     "data": {
      "text/plain": [
       "'\\\\\\\\myNAS\\\\Daten\\\\Musik\\\\Videos\\\\swedish house mafia\\\\conc.txt'"
      ]
     },
     "execution_count": 12,
     "metadata": {},
     "output_type": "execute_result"
    }
   ],
   "source": [
    "str(Path(conc))"
   ]
  },
  {
   "cell_type": "code",
   "execution_count": 8,
   "metadata": {},
   "outputs": [
    {
     "name": "stdout",
     "output_type": "stream",
     "text": [
      "os.path.join(root, file)='//myNAS/Daten/Musik/Videos/swedish house mafia\\\\Antidote LIVE from Madison Square Garden.mp4'\n",
      "os.path.join(root, file)='//myNAS/Daten/Musik/Videos/swedish house mafia\\\\STEVE ANGELLO & LAIDBACK LUKE FEAT. ROBIN S： SHOW ME LOVE.mp4'\n",
      "os.path.join(root, file)=\"//myNAS/Daten/Musik/Videos/swedish house mafia\\\\Swedish House Mafia - 'One' (Instrumental Version) Official Video (HD).mp4\"\n",
      "os.path.join(root, file)=\"//myNAS/Daten/Musik/Videos/swedish house mafia\\\\Swedish House Mafia - 'Save the World' LIVE Cut @ Madison Square Garden.mp4\"\n",
      "os.path.join(root, file)='//myNAS/Daten/Musik/Videos/swedish house mafia\\\\Swedish House Mafia - Greyhound (Live from Miami).mp4'\n",
      "os.path.join(root, file)='//myNAS/Daten/Musik/Videos/swedish house mafia\\\\Swedish House Mafia - Greyhound.mp4'\n",
      "os.path.join(root, file)='//myNAS/Daten/Musik/Videos/swedish house mafia\\\\Swedish House Mafia - It Gets Better (Official Video).mp4'\n",
      "os.path.join(root, file)='//myNAS/Daten/Musik/Videos/swedish house mafia\\\\Swedish House Mafia - It Gets Better, Lifetime - (Live From The MTV VMAs ⧸ 2021).mp4'\n",
      "os.path.join(root, file)='//myNAS/Daten/Musik/Videos/swedish house mafia\\\\Swedish House Mafia - Lifetime ft. Ty Dolla $ign, 070 Shake.mp4'\n",
      "os.path.join(root, file)='//myNAS/Daten/Musik/Videos/swedish house mafia\\\\Swedish House Mafia - Miami 2 Ibiza ft. Tinie Tempah (Official Video).mp4'\n",
      "os.path.join(root, file)='//myNAS/Daten/Musik/Videos/swedish house mafia\\\\Swedish House Mafia - One (Your Name) (Official Video).mp4'\n",
      "os.path.join(root, file)='//myNAS/Daten/Musik/Videos/swedish house mafia\\\\Swedish House Mafia - Ray Of Solar (Official Music Video).mp4'\n",
      "os.path.join(root, file)='//myNAS/Daten/Musik/Videos/swedish house mafia\\\\Swedish House Mafia - See The Light (feat. Fridayy) (Official Video).mp4'\n",
      "os.path.join(root, file)='//myNAS/Daten/Musik/Videos/swedish house mafia\\\\Swedish House Mafia and Connie Constance - Heaven Takes You Home (Connies Lens).mp4'\n",
      "os.path.join(root, file)='//myNAS/Daten/Musik/Videos/swedish house mafia\\\\Swedish House Mafia and The Weeknd - Moth To A Flame (Official Video).mp4'\n",
      "os.path.join(root, file)=\"//myNAS/Daten/Musik/Videos/swedish house mafia\\\\Swedish House Mafia ft. John Martin - Don't You Worry Child (Official Video).mp4\"\n",
      "os.path.join(root, file)='//myNAS/Daten/Musik/Videos/swedish house mafia\\\\Swedish House Mafia vs. Knife Party - Antidote.mp4'\n",
      "os.path.join(root, file)='//myNAS/Daten/Musik/Videos/swedish house mafia\\\\Swedish House Mafia “Heaven Takes You Home (Live From Coachella)＂.mp4'\n",
      "os.path.join(root, file)='//myNAS/Daten/Musik/Videos/swedish house mafia\\\\Swedish House Mafia, Sting - Redlight.mp4'\n",
      "os.path.join(root, file)='//myNAS/Daten/Musik/Videos/swedish house mafia\\\\Until Now - The Official Minimix Video.mp4'\n"
     ]
    }
   ],
   "source": [
    "    \n",
    "# for folder in os.listdir(target_folder):\n",
    "#     if os.path.isdir(os.path.join(target_folder, folder)):\n",
    "#         target_tags = []\n",
    "#         target_tags.append(folder)\n",
    "for root, dirs, files in os.walk(target_folder):\n",
    "    for file in files:\n",
    "        if file.endswith(SUPPORTED_FILE_ENDINGS):\n",
    "            print(f'{os.path.join(root, file)=}')\n",
    "            # p = Playable(os.path.join(root, file))\n",
    "            # add_playable_info(p)\n",
    "            # p.tags = list(set(p.tags + target_tags))\n",
    "            # save_playable_to_file(p)\n",
    "            # print(f\"Updated tags for {p.title} to {p.tags}\")"
   ]
  }
 ],
 "metadata": {
  "kernelspec": {
   "display_name": "movenue-ndV_8Idw-py3.12",
   "language": "python",
   "name": "python3"
  },
  "language_info": {
   "codemirror_mode": {
    "name": "ipython",
    "version": 3
   },
   "file_extension": ".py",
   "mimetype": "text/x-python",
   "name": "python",
   "nbconvert_exporter": "python",
   "pygments_lexer": "ipython3",
   "version": "3.12.1"
  }
 },
 "nbformat": 4,
 "nbformat_minor": 2
}
