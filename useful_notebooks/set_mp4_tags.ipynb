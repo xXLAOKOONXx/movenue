{
 "cells": [
  {
   "cell_type": "markdown",
   "metadata": {},
   "source": [
    "# MP4 operations"
   ]
  },
  {
   "cell_type": "markdown",
   "metadata": {},
   "source": [
    "*Please make sure not to check this file into github with personal changes and costum folder paths*"
   ]
  },
  {
   "cell_type": "markdown",
   "metadata": {},
   "source": [
    "To start this notebook make sure you\n",
    "- installed poetry\n",
    "- installed the virtual environment with `poetry install`\n",
    "- selected the virtual environment as kernel for this notebook"
   ]
  },
  {
   "cell_type": "markdown",
   "metadata": {},
   "source": [
    "## Imports"
   ]
  },
  {
   "cell_type": "code",
   "execution_count": 1,
   "metadata": {},
   "outputs": [],
   "source": [
    "from movenue.constants.general_settings import SUPPORTED_FILE_ENDINGS\n",
    "from movenue.models.playable import Playable\n",
    "from movenue.services.playables_population import add_playable_info\n",
    "from movenue.services.add_infos import save_playable_to_file\n",
    "import os"
   ]
  },
  {
   "cell_type": "markdown",
   "metadata": {},
   "source": [
    "## Batch Editing"
   ]
  },
  {
   "cell_type": "code",
   "execution_count": 2,
   "metadata": {},
   "outputs": [],
   "source": [
    "from tkinter import filedialog\n",
    "\n",
    "selected_folder = filedialog.askdirectory()"
   ]
  },
  {
   "cell_type": "code",
   "execution_count": 3,
   "metadata": {},
   "outputs": [
    {
     "data": {
      "text/plain": [
       "'//myNAS/Daten/Musik/Videos/swedish house mafia'"
      ]
     },
     "execution_count": 3,
     "metadata": {},
     "output_type": "execute_result"
    }
   ],
   "source": [
    "selected_folder"
   ]
  },
  {
   "cell_type": "code",
   "execution_count": 5,
   "metadata": {},
   "outputs": [
    {
     "name": "stdout",
     "output_type": "stream",
     "text": [
      "Updated tags for 19.30 / We Come We Rave We Love (Live From Paris) to []\n",
      "Updated tags for 19.30 to []\n",
      "Updated tags for Another Minute to []\n",
      "Updated tags for Antidote (Knife Party Dub) to []\n",
      "Updated tags for Antidote (Live from Madrid) to []\n",
      "Updated tags for Calling On / Kidsos (Live from Paris) to []\n",
      "Updated tags for Calling On to []\n",
      "Updated tags for Calling / Tell Me Why (Live from Madrid) to []\n",
      "Updated tags for Can U Feel It (Kodat Remix) to []\n",
      "Updated tags for Can U Feel It / It Gets Better / Greyhound (Live From New York) to []\n",
      "Updated tags for Can U Feel It to []\n",
      "Updated tags for Coldplay Vs Swedish House Mafia - Every Teardrop Is A Waterfall (live) to []\n",
      "Updated tags for Don't Go Mad (Live from Los Angeles) to []\n",
      "Updated tags for Don't Go Mad to []\n",
      "Updated tags for Don't You Worry Child (Acoustic Version) to []\n",
      "Updated tags for Don't You Worry Child / For You / Save The World (Live from London) to []\n",
      "Updated tags for Dream Bigger / One (Live from Las Vegas) to []\n",
      "Updated tags for Dreams (Live from Dublin) to []\n",
      "Updated tags for Dutch World Cup team dance to 'Swedish House Mafia - One' to []\n",
      "Updated tags for For Sale / Rave 'N' Roll (Live from Amsterdam) to []\n",
      "Updated tags for For You to []\n",
      "Updated tags for Frankenstein / More Than You Know / Teasing Mr Charlie (Live from Toronto) to []\n",
      "Updated tags for Frankenstein to []\n",
      "Updated tags for Greyhound to []\n",
      "Updated tags for Heart Is King / Sacrifice / Knas (Live from Miami) to []\n",
      "Updated tags for Heaven Takes You Home (Alternative Mix) to []\n",
      "Updated tags for Heaven Takes You Home (Extended Mix) to []\n",
      "Updated tags for Heaven Takes You Home (Jacques Lu Cont Remix) to []\n",
      "Updated tags for Heaven Takes You Home (Moojo Remix) to []\n",
      "Updated tags for Heaven Takes You Home / Sweet Disposition (Live from Copenhagen) to []\n",
      "Updated tags for Home to []\n",
      "Updated tags for Intro (Live from New York) to []\n",
      "Updated tags for Jacob's Note to []\n",
      "Updated tags for Lifetime (Live from Madrid) to []\n",
      "Updated tags for Lioness to []\n",
      "Updated tags for Mafia to []\n",
      "Updated tags for Miami 2 Ibiza (Danny Byrd Remix; Explicit) to []\n",
      "Updated tags for Miami 2 Ibiza (Live from Milan) to []\n",
      "Updated tags for Moth To A Flame (Adriatique Remix) to []\n",
      "Updated tags for Moth To A Flame (Chris Lake Remix) to []\n",
      "Updated tags for Moth To A Flame (Extended Mix) to []\n",
      "Updated tags for Moth To A Flame (Live from Copenhagen) to []\n",
      "Updated tags for Moth To A Flame (Moojo Remix) to []\n",
      "Updated tags for Moth To A Flame (Tourist Remix) to []\n",
      "Updated tags for One (Radio Edit) to []\n",
      "Updated tags for One Symphony to []\n",
      "Updated tags for One to []\n",
      "Updated tags for Paradise Again to []\n",
      "Updated tags for Ray Of Solar (Alex Wann & Sasson Remix) to []\n",
      "Updated tags for Ray Of Solar (Anfisa Letyago Remix) to []\n",
      "Updated tags for Ray Of Solar (B Side Edit) (B Side Edit) to []\n",
      "Updated tags for Ray Of Solar (Mau P Remix) to []\n",
      "Updated tags for Ray Of Solar (Tiësto Remix) to []\n",
      "Updated tags for Redlight (Live from Amsterdam) to []\n",
      "Updated tags for Save The World (Alesso Remix) to []\n",
      "Updated tags for Save The World (Style Of Eye & Carli Remix) to []\n",
      "Updated tags for Save The World (Third Party Remix) to []\n",
      "Updated tags for Save The World (Zedd Remix) to []\n",
      "Updated tags for STEVE ANGELLO & LAIDBACK LUKE FEAT. ROBIN S: SHOW ME LOVE to []\n",
      "Updated tags for Swedish House Mafia - 'One' (Instrumental Version) Official Video (HD) to []\n",
      "Updated tags for Swedish House Mafia - 'Save the World' LIVE Cut @ Madison Square Garden to []\n",
      "Updated tags for Swedish House Mafia - Antidote LIVE from Madison Square Garden to []\n",
      "Updated tags for Swedish House Mafia - Don't You Worry Child (Joris Voorn Remix) to []\n",
      "Updated tags for Swedish House Mafia - Don't You Worry Child (Promise Land Remix) to []\n",
      "Updated tags for Swedish House Mafia - Don't You Worry Child (Tom Staar & Kryder Remix) to []\n",
      "Updated tags for Swedish House Mafia - Don't You Worry Child feat. John Martin (Pete Tong Radio 1 Exclusive 10.08.12) to []\n",
      "Updated tags for Swedish House Mafia - Greyhound (Live from Miami) to []\n",
      "Updated tags for Swedish House Mafia - Greyhound to []\n",
      "Updated tags for Swedish House Mafia - It Gets Better (Official Video) to []\n",
      "Updated tags for Swedish House Mafia - It Gets Better, Lifetime - (Live From The MTV VMAs / 2021) to []\n",
      "Updated tags for Swedish House Mafia - Lifetime ft. Ty Dolla $ign, 070 Shake to []\n",
      "Updated tags for Swedish House Mafia - Miami 2 Ibiza ft. Tinie Tempah (Official Video) to []\n",
      "Updated tags for Swedish House Mafia - Miami 2 Ibiza [Instrumental] to []\n",
      "Updated tags for Swedish House Mafia - One (Congorock Remix) to []\n",
      "Updated tags for Swedish House Mafia - One (Netsky Remix) to []\n",
      "Updated tags for Swedish House Mafia - One (Your Name) (Official Video) to []\n",
      "Updated tags for Swedish House Mafia - One (Your Name) ft. Pharrell (Caspa Vocal Remix) to []\n",
      "Updated tags for Swedish House Mafia - Ray Of Solar (Official Music Video) to []\n",
      "Updated tags for Swedish House Mafia - Save The World (Alesso Remix) to []\n",
      "Updated tags for Swedish House Mafia - Save The World (AN21 & Max Vangeli Remix) to []\n",
      "Updated tags for Swedish House Mafia - Save The World (Futurebound & Metrik Remix) to []\n",
      "Updated tags for Swedish House Mafia - Save The World (Knife Party Remix) to []\n",
      "Updated tags for Swedish House Mafia - Save The World (Pete Tong World Exclusive, Radio 1, 22.04.11) to []\n",
      "Updated tags for Swedish House Mafia - Save The World (Style Of Eye & Carli Remix) to []\n",
      "Updated tags for Swedish House Mafia - Save The World (Third Party Remix) to []\n",
      "Updated tags for Swedish House Mafia - Save The World (Zedd Remix) to []\n",
      "Updated tags for Swedish House Mafia - See The Light (feat. Fridayy) (Official Video) to []\n",
      "Updated tags for Swedish House Mafia and Connie Constance - Heaven Takes You Home (Connies Lens) to []\n",
      "Updated tags for Swedish House Mafia and The Weeknd - Moth To A Flame (Official Video) to []\n",
      "Updated tags for Swedish House Mafia ft. John Martin - Don't You Worry Child (Official Video) to []\n",
      "Updated tags for Swedish House Mafia Vs Tinie Tempah - Miami 2 Ibiza (Danny Byrd Dub) to []\n",
      "Updated tags for Swedish House Mafia Vs Tinie Tempah - Miami 2 Ibiza (Sander Van Doorn remix) to []\n",
      "Updated tags for Swedish House Mafia Vs Tinie Tempah - Miami 2 Ibiza, Behind The Scenes (HD)‬ to []\n",
      "Updated tags for Swedish House Mafia vs. Knife Party - Antidote (Tommy Trash remix) to []\n",
      "Updated tags for Swedish House Mafia vs. Knife Party - Antidote to []\n",
      "Updated tags for SWEDISH HOUSE MAFIA x IKEA to []\n",
      "Updated tags for Swedish House Mafia “Heaven Takes You Home (Live From Coachella)\" to []\n",
      "Updated tags for Swedish House Mafia, Sting - Redlight to []\n",
      "Updated tags for Swedish House Mafia, The Weeknd - Moth To A Flame (BTS) to []\n",
      "Updated tags for Time / Reload (Live from New York) to []\n",
      "Updated tags for Time to []\n",
      "Updated tags for Turn On The Lights again.. (feat. Future & Fred again..) (Anyma Remix) to []\n",
      "Updated tags for Turn On The Lights again.. (feat. Future & Fred again..) (Austin Millz Remix) to []\n",
      "Updated tags for Turn On The Lights again.. (feat. Future & Fred again..) (Solomun Remix) to []\n",
      "Updated tags for Turn On The Lights again.. (Live from Antwerp) to []\n",
      "Updated tags for Until Now - The Official Minimix Video to []\n"
     ]
    }
   ],
   "source": [
    "target_folder = selected_folder   \n",
    "# for folder in os.listdir(target_folder):\n",
    "#     if os.path.isdir(os.path.join(target_folder, folder)):\n",
    "#         target_tags = []\n",
    "#         target_tags.append(folder)\n",
    "for root, dirs, files in os.walk(os.path.join(target_folder, target_folder)):\n",
    "    for file in files:\n",
    "        if file.endswith(SUPPORTED_FILE_ENDINGS):\n",
    "            p = Playable(os.path.join(root, file))\n",
    "            add_playable_info(p)\n",
    "            p.artists = p.artists + ['Swedish House Mafia']\n",
    "            # MODIFY PLAYABLE AS YOU LIKE\n",
    "            # p.tags = list(set(p.tags + target_tags))\n",
    "            save_playable_to_file(p)\n",
    "            print(f\"Updated tags for {p.title} to {p.tags}\")"
   ]
  },
  {
   "cell_type": "markdown",
   "metadata": {},
   "source": [
    "## Single Editing"
   ]
  },
  {
   "cell_type": "code",
   "execution_count": null,
   "metadata": {},
   "outputs": [],
   "source": [
    "full_path = 'ENTER PATH HERE'\n",
    "p = Playable(full_path)\n",
    "add_playable_info(p)\n",
    "# MODIFY PLAYABLE AS YOU LIKE\n",
    "save_playable_to_file(p)"
   ]
  },
  {
   "cell_type": "markdown",
   "metadata": {},
   "source": [
    "## Embed thumbnails into videos\n",
    "\n",
    "Below code creates snapshots from the video and attaches it as thumbnail to the mp4 file.\n",
    "\n",
    "Since the app does not produce such snapshots itself you might want to give every video a thumbnail this way."
   ]
  },
  {
   "cell_type": "code",
   "execution_count": 1,
   "metadata": {},
   "outputs": [],
   "source": [
    "from tkinter import filedialog\n",
    "full_path = filedialog.askopenfilename()"
   ]
  },
  {
   "cell_type": "code",
   "execution_count": 2,
   "metadata": {},
   "outputs": [
    {
     "name": "stderr",
     "output_type": "stream",
     "text": [
      "c:\\Users\\Megaport\\AppData\\Local\\pypoetry\\Cache\\virtualenvs\\movenue-ndV_8Idw-py3.12\\Lib\\site-packages\\moviepy\\config_defaults.py:1: SyntaxWarning: invalid escape sequence '\\P'\n",
      "  \"\"\"\n",
      "c:\\Users\\Megaport\\AppData\\Local\\pypoetry\\Cache\\virtualenvs\\movenue-ndV_8Idw-py3.12\\Lib\\site-packages\\moviepy\\video\\io\\ffmpeg_reader.py:294: SyntaxWarning: invalid escape sequence '\\d'\n",
      "  lines_video = [l for l in lines if ' Video: ' in l and re.search('\\d+x\\d+', l)]\n",
      "c:\\Users\\Megaport\\AppData\\Local\\pypoetry\\Cache\\virtualenvs\\movenue-ndV_8Idw-py3.12\\Lib\\site-packages\\moviepy\\video\\io\\ffmpeg_reader.py:367: SyntaxWarning: invalid escape sequence '\\d'\n",
      "  rotation_lines = [l for l in lines if 'rotate          :' in l and re.search('\\d+$', l)]\n",
      "c:\\Users\\Megaport\\AppData\\Local\\pypoetry\\Cache\\virtualenvs\\movenue-ndV_8Idw-py3.12\\Lib\\site-packages\\moviepy\\video\\io\\ffmpeg_reader.py:370: SyntaxWarning: invalid escape sequence '\\d'\n",
      "  match = re.search('\\d+$', rotation_line)\n"
     ]
    },
    {
     "name": "stdout",
     "output_type": "stream",
     "text": [
      "Thumbnail added for //myNAS/Daten/Musik/Videos/selfmade/Only The Fallen.mp4\n"
     ]
    }
   ],
   "source": [
    "import io\n",
    "import moviepy.editor as mp\n",
    "from mutagen.mp4 import MP4Cover, MP4\n",
    "from PIL import Image\n",
    "\n",
    "# full_path = 'ENTER FILEPATH HERE'\n",
    "\n",
    "video = mp.VideoFileClip(full_path)\n",
    "snapshot = video.get_frame(3) # get the frame at 3 seconds\n",
    "image = Image.fromarray(snapshot)\n",
    "image\n",
    "img_byte_arr = io.BytesIO()\n",
    "image.save(img_byte_arr, format='PNG')\n",
    "img_byte_arr = img_byte_arr.getvalue()\n",
    "cover = MP4Cover(img_byte_arr, imageformat=MP4Cover.FORMAT_PNG)\n",
    "mp4 = MP4(full_path)\n",
    "mp4.tags['covr'] = [cover]\n",
    "mp4.save()\n",
    "print('Thumbnail added for ' + full_path)"
   ]
  }
 ],
 "metadata": {
  "kernelspec": {
   "display_name": "laoflix-xVlEJWBR-py3.10",
   "language": "python",
   "name": "python3"
  },
  "language_info": {
   "codemirror_mode": {
    "name": "ipython",
    "version": 3
   },
   "file_extension": ".py",
   "mimetype": "text/x-python",
   "name": "python",
   "nbconvert_exporter": "python",
   "pygments_lexer": "ipython3",
   "version": "3.12.1"
  }
 },
 "nbformat": 4,
 "nbformat_minor": 2
}
