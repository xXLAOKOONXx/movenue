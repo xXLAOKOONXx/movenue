{
 "cells": [
  {
   "cell_type": "markdown",
   "metadata": {},
   "source": [
    "# MP4 operations"
   ]
  },
  {
   "cell_type": "markdown",
   "metadata": {},
   "source": [
    "*Please make sure not to check this file into github with personal changes and costum folder paths*"
   ]
  },
  {
   "cell_type": "markdown",
   "metadata": {},
   "source": [
    "To start this notebook make sure you\n",
    "- installed poetry\n",
    "- installed the virtual environment with `poetry install`\n",
    "- selected the virtual environment as kernel for this notebook"
   ]
  },
  {
   "cell_type": "markdown",
   "metadata": {},
   "source": [
    "## Imports"
   ]
  },
  {
   "cell_type": "code",
   "execution_count": 3,
   "metadata": {},
   "outputs": [],
   "source": [
    "from movenue.constants.general_settings import SUPPORTED_FILE_ENDINGS\n",
    "from movenue.models.playable import Playable\n",
    "from movenue.services.playables_population import add_playable_info\n",
    "from movenue.services.add_infos import save_playable_to_file\n",
    "import os"
   ]
  },
  {
   "cell_type": "markdown",
   "metadata": {},
   "source": [
    "## Batch Editing"
   ]
  },
  {
   "cell_type": "code",
   "execution_count": null,
   "metadata": {},
   "outputs": [],
   "source": [
    "target_folder = 'ENTER PATH HERE'    \n",
    "for folder in os.listdir(target_folder):\n",
    "    if os.path.isdir(os.path.join(target_folder, folder)):\n",
    "        target_tags = []\n",
    "        target_tags.append(folder)\n",
    "        for root, dirs, files in os.walk(os.path.join(target_folder, folder)):\n",
    "            for file in files:\n",
    "                if file.endswith(SUPPORTED_FILE_ENDINGS):\n",
    "                    p = Playable(os.path.join(root, file))\n",
    "                    add_playable_info(p)\n",
    "                    # MODIFY PLAYABLE AS YOU LIKE\n",
    "                    p.tags = list(set(p.tags + target_tags))\n",
    "                    save_playable_to_file(p)\n",
    "                    print(f\"Updated tags for {p.title} to {p.tags}\")"
   ]
  },
  {
   "cell_type": "markdown",
   "metadata": {},
   "source": [
    "## Single Editing"
   ]
  },
  {
   "cell_type": "code",
   "execution_count": null,
   "metadata": {},
   "outputs": [],
   "source": [
    "full_path = 'ENTER PATH HERE'\n",
    "p = Playable(full_path)\n",
    "add_playable_info(p)\n",
    "# MODIFY PLAYABLE AS YOU LIKE\n",
    "save_playable_to_file(p)"
   ]
  },
  {
   "cell_type": "markdown",
   "metadata": {},
   "source": [
    "## Embed thumbnails into videos\n",
    "\n",
    "Below code creates snapshots from the video and attaches it as thumbnail to the mp4 file.\n",
    "\n",
    "Since the app does not produce such snapshots itself you might want to give every video a thumbnail this way."
   ]
  },
  {
   "cell_type": "code",
   "execution_count": null,
   "metadata": {},
   "outputs": [],
   "source": [
    "import io\n",
    "import moviepy.editor as mp\n",
    "from mutagen.mp4 import MP4Cover, MP4\n",
    "from PIL import Image\n",
    "\n",
    "full_path = 'ENTER FILEPATH HERE'\n",
    "\n",
    "video = mp.VideoFileClip(full_path)\n",
    "snapshot = video.get_frame(3) # get the frame at 3 seconds\n",
    "image = Image.fromarray(snapshot)\n",
    "image\n",
    "img_byte_arr = io.BytesIO()\n",
    "image.save(img_byte_arr, format='PNG')\n",
    "img_byte_arr = img_byte_arr.getvalue()\n",
    "cover = MP4Cover(img_byte_arr, imageformat=MP4Cover.FORMAT_PNG)\n",
    "mp4 = MP4(full_path)\n",
    "mp4.tags['covr'] = [cover]\n",
    "mp4.save()\n",
    "print('Thumbnail added for ' + full_path)"
   ]
  }
 ],
 "metadata": {
  "kernelspec": {
   "display_name": "laoflix-xVlEJWBR-py3.10",
   "language": "python",
   "name": "python3"
  },
  "language_info": {
   "codemirror_mode": {
    "name": "ipython",
    "version": 3
   },
   "file_extension": ".py",
   "mimetype": "text/x-python",
   "name": "python",
   "nbconvert_exporter": "python",
   "pygments_lexer": "ipython3",
   "version": "3.12.1"
  }
 },
 "nbformat": 4,
 "nbformat_minor": 2
}
