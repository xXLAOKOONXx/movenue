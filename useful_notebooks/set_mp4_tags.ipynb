{
 "cells": [
  {
   "cell_type": "markdown",
   "metadata": {},
   "source": [
    "# MP4 operations"
   ]
  },
  {
   "cell_type": "markdown",
   "metadata": {},
   "source": [
    "*Please make sure not to check this file into github with personal changes and costum folder paths*"
   ]
  },
  {
   "cell_type": "markdown",
   "metadata": {},
   "source": [
    "To start this notebook make sure you\n",
    "- installed poetry\n",
    "- installed the virtual environment with `poetry install`\n",
    "- selected the virtual environment as kernel for this notebook"
   ]
  },
  {
   "cell_type": "markdown",
   "metadata": {},
   "source": [
    "## Imports"
   ]
  },
  {
   "cell_type": "code",
   "execution_count": null,
   "metadata": {},
   "outputs": [],
   "source": [
    "import muvenue.services.mp4_metadata as mp4_metadata\n",
    "import os\n",
    "from mutagen.mp4 import MP4"
   ]
  },
  {
   "cell_type": "markdown",
   "metadata": {},
   "source": [
    "## Batch Editing"
   ]
  },
  {
   "cell_type": "code",
   "execution_count": null,
   "metadata": {},
   "outputs": [],
   "source": [
    "folder_path = 'ENTER PATH HERE'\n",
    "for root, dirs, files in os.walk(folder_path):\n",
    "      for file in files:\n",
    "        if file.endswith('.mp4'):\n",
    "            mp4_metadata.add_tag_to_mp4(os.path.join(root, file), 'ENTER TAG HERE')\n",
    "            mp4_metadata.set_userrating(os.path.join(root, file), 0) # give a rating of 0 (higher = better; expect 1-10)"
   ]
  },
  {
   "cell_type": "markdown",
   "metadata": {},
   "source": [
    "## Single Editing"
   ]
  },
  {
   "cell_type": "code",
   "execution_count": null,
   "metadata": {},
   "outputs": [],
   "source": [
    "full_path = 'ENTER PATH HERE'\n",
    "mp4_metadata.add_tag_to_mp4(full_path, 'ENTER TAG HERE')\n",
    "mp4_metadata.set_userrating(full_path, 0) # give a rating of 0 (higher = better; expect 1-10)"
   ]
  },
  {
   "cell_type": "markdown",
   "metadata": {},
   "source": [
    "## Embed thumbnails into videos\n",
    "\n",
    "Below code creates snapshots from the videos in the folder and attaches them as thumbnail to the mp4 file.\n",
    "\n",
    "I guess this improves the performance as the app no longer has to do this 'on the fly', but I've done it once with my files and do not run performance tests on this."
   ]
  },
  {
   "cell_type": "code",
   "execution_count": null,
   "metadata": {},
   "outputs": [],
   "source": [
    "import io\n",
    "import moviepy.editor as mp\n",
    "from mutagen.mp4 import MP4Cover\n",
    "from PIL import Image\n",
    "\n",
    "folder_path = '//mynas/Daten/Musik/Videos'\n",
    "for root, dirs, files in os.walk(folder_path):\n",
    "      for file in files:\n",
    "        if file.endswith('.mp4'):\n",
    "            if not mp4_metadata.extract_mp4_metadata(os.path.join(root, file)).get('thumbnail'):\n",
    "                video = mp.VideoFileClip(os.path.join(root, file))\n",
    "                snapshot = video.get_frame(3)\n",
    "                image = Image.fromarray(snapshot)\n",
    "                image\n",
    "                img_byte_arr = io.BytesIO()\n",
    "                image.save(img_byte_arr, format='PNG')\n",
    "                img_byte_arr = img_byte_arr.getvalue()\n",
    "                cover = MP4Cover(img_byte_arr, imageformat=MP4Cover.FORMAT_PNG)\n",
    "                mp4 = MP4(os.path.join(root, file))\n",
    "                mp4.tags['covr'] = [cover]\n",
    "                mp4.save()\n",
    "                print('Thumbnail added for ' + os.path.join(root, file))"
   ]
  }
 ],
 "metadata": {
  "kernelspec": {
   "display_name": "laoflix-xVlEJWBR-py3.10",
   "language": "python",
   "name": "python3"
  },
  "language_info": {
   "codemirror_mode": {
    "name": "ipython",
    "version": 3
   },
   "file_extension": ".py",
   "mimetype": "text/x-python",
   "name": "python",
   "nbconvert_exporter": "python",
   "pygments_lexer": "ipython3",
   "version": "3.10.2"
  }
 },
 "nbformat": 4,
 "nbformat_minor": 2
}
